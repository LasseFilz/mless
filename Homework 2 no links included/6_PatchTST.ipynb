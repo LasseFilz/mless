{
 "cells": [
  {
   "cell_type": "markdown",
   "id": "9fbf2459-4d78-4d82-9732-94ae3106dcf6",
   "metadata": {},
   "source": [
    "#Lasse Filz"
   ]
  },
  {
   "cell_type": "markdown",
   "id": "d8dc2e8e",
   "metadata": {},
   "source": [
    "<a href=\"https://colab.research.google.com/github/maschu09/mless/blob/main/time_series_forecasting/6_PatchTST.ipynb\" target=\"_parent\"><img src=\"https://colab.research.google.com/assets/colab-badge.svg\" alt=\"Open In Colab\"/></a>"
   ]
  },
  {
   "cell_type": "markdown",
   "id": "7d9f2f56",
   "metadata": {
    "id": "7d9f2f56"
   },
   "source": [
    "# Installation\n",
    "\n",
    "This demo requires Hugging Face [`Transformers`](https://github.com/huggingface/transformers) for the model, and the IBM `tsfm` package for auxiliary data pre-processing.\n",
    "We can install both by cloning the `tsfm` repository and following the below steps.\n",
    "\n",
    "\n",
    "😈 **Task 1:** Explore what `PatchTST` offers compared to traditional transformers. What’s unique about the patching mechanism?\n",
    "\n",
    "\n",
    "1. Clone the public IBM Time Series Foundation Model Repository [`tsfm`](https://github.com/ibm/tsfm).\n",
    "\n",
    "2. Install Hugging Face [`Transformers`](https://github.com/huggingface/transformers#installation)\n",
    "\n",
    "3. Test it with the following commands in a `python` terminal.\n"
   ]
  },
  {
   "cell_type": "code",
   "execution_count": 3,
   "id": "7c81f362",
   "metadata": {
    "executionInfo": {
     "elapsed": 17276,
     "status": "ok",
     "timestamp": 1749057643302,
     "user": {
      "displayName": "Sindhu Vasireddy",
      "userId": "12995924272851590760"
     },
     "user_tz": -120
    },
    "id": "7c81f362"
   },
   "outputs": [
    {
     "name": "stderr",
     "output_type": "stream",
     "text": [
      "C:\\Users\\lasse\\anaconda3\\envs\\es\\lib\\site-packages\\tqdm\\auto.py:21: TqdmWarning: IProgress not found. Please update jupyter and ipywidgets. See https://ipywidgets.readthedocs.io/en/stable/user_install.html\n",
      "  from .autonotebook import tqdm as notebook_tqdm\n"
     ]
    }
   ],
   "source": [
    "from transformers import PatchTSTConfig\n",
    "from tsfm_public.toolkit.dataset import ForecastDFDataset"
   ]
  },
  {
   "cell_type": "markdown",
   "id": "aee47f07",
   "metadata": {
    "id": "aee47f07"
   },
   "source": [
    "## Part 1: Forecasting on the TOAR dataset\n",
    "Here we train a `PatchTST` model directly on the TOAR normalized data similar to TOAR huggingface example and evaluate its performance.\n",
    "\n",
    "😈 **Question 1:** Why might a transformer model be well-suited for air quality forecasting?\n",
    "\n",
    "😈 **Task 2:** Compare PatchTST against LSTM or MLP. What trends do you notice?\n"
   ]
  },
  {
   "cell_type": "code",
   "execution_count": 5,
   "id": "2e700534",
   "metadata": {
    "executionInfo": {
     "elapsed": 1344,
     "status": "ok",
     "timestamp": 1749057644650,
     "user": {
      "displayName": "Sindhu Vasireddy",
      "userId": "12995924272851590760"
     },
     "user_tz": -120
    },
    "id": "2e700534"
   },
   "outputs": [
    {
     "name": "stdout",
     "output_type": "stream",
     "text": [
      "WARNING:tensorflow:From C:\\Users\\lasse\\anaconda3\\envs\\es\\lib\\site-packages\\tf_keras\\src\\losses.py:2976: The name tf.losses.sparse_softmax_cross_entropy is deprecated. Please use tf.compat.v1.losses.sparse_softmax_cross_entropy instead.\n",
      "\n"
     ]
    },
    {
     "name": "stderr",
     "output_type": "stream",
     "text": [
      "WARNING:p-23024:t-2984:module_wrapper.py:_tfmw_add_deprecation_warning:From C:\\Users\\lasse\\anaconda3\\envs\\es\\lib\\site-packages\\tf_keras\\src\\losses.py:2976: The name tf.losses.sparse_softmax_cross_entropy is deprecated. Please use tf.compat.v1.losses.sparse_softmax_cross_entropy instead.\n",
      "\n"
     ]
    }
   ],
   "source": [
    "# Standard\n",
    "import os\n",
    "\n",
    "# Third Party\n",
    "from transformers import (\n",
    "    EarlyStoppingCallback,\n",
    "    PatchTSTConfig,\n",
    "    PatchTSTForPrediction,\n",
    "    set_seed,\n",
    "    Trainer,\n",
    "    TrainingArguments,\n",
    ")\n",
    "import numpy as np\n",
    "import pandas as pd\n",
    "\n",
    "# First Party\n",
    "from tsfm_public.toolkit.dataset import ForecastDFDataset\n",
    "from tsfm_public.toolkit.time_series_preprocessor import TimeSeriesPreprocessor\n",
    "from tsfm_public.toolkit.util import select_by_index\n",
    "\n",
    "# supress some warnings\n",
    "import warnings\n",
    "\n",
    "warnings.filterwarnings(\"ignore\", module=\"torch\")"
   ]
  },
  {
   "cell_type": "markdown",
   "id": "c9f3c9f7",
   "metadata": {
    "id": "c9f3c9f7"
   },
   "source": [
    "### Set seed\n",
    "\n",
    "😈 **Task 3:** Try changing the seed and observe if training results vary significantly.\n"
   ]
  },
  {
   "cell_type": "code",
   "execution_count": 7,
   "id": "51b43d85",
   "metadata": {
    "executionInfo": {
     "elapsed": 2,
     "status": "ok",
     "timestamp": 1749057644656,
     "user": {
      "displayName": "Sindhu Vasireddy",
      "userId": "12995924272851590760"
     },
     "user_tz": -120
    },
    "id": "51b43d85"
   },
   "outputs": [],
   "source": [
    "set_seed(2025)"
   ]
  },
  {
   "cell_type": "markdown",
   "id": "3187f9b0",
   "metadata": {
    "id": "3187f9b0"
   },
   "source": [
    "### Load and prepare datasets\n",
    "\n",
    " In the next cell, please adjust the following parameters to suit your application:\n",
    " - `dataset_path`: path to local .csv file, or web address to a csv file for the data of interest. Data is loaded with pandas, so anything supported by\n",
    "   `pd.read_csv` is supported: (https://pandas.pydata.org/pandas-docs/stable/reference/api/pandas.read_csv.html).\n",
    " - `timestamp_column`: column name containing timestamp information, use `None` if there is no such column.\n",
    " - `id_columns`: List of column names specifying the IDs of different time series. If no ID column exists, use `[]`.\n",
    " - `forecast_columns`: List of columns to be modeled\n",
    " - `context_length`: The amount of historical data used as input to the model. Windows of the input time series data with length equal to `context_length` will be extracted from the input dataframe. In the case of a multi-time series dataset, the context windows will be created so that they are contained within a single time series (i.e., a single ID).\n",
    " - `forecast_horizon`: Number of timestamps to forecast in the future.\n",
    " - `train_start_index`, `train_end_index`: the start and end indices in the loaded data which delineate the training data.\n",
    " - `valid_start_index`, `eval_end_index`: the start and end indices in the loaded data which delineate the validation data.\n",
    " - `test_start_index`, `eval_end_index`: the start and end indices in the loaded data which delineate the test data.\n",
    " - `patch_length`: The patch length for the `PatchTST` model. It is recommended to choose a value that evenly divides `context_length`.\n",
    " - `num_workers`: Number of CPU workers in the PyTorch dataloader.\n",
    " - `batch_size`: Batch size.\n",
    "\n",
    "The data is first loaded into a Pandas dataframe and split into training, validation, and test parts. Then the Pandas dataframes are converted to the appropriate PyTorch dataset required for training.\n",
    "\n",
    "😈 **Task 4:** Change `context_length` or `patch_length` and compare validation loss.\n",
    "\n",
    "😈 **Question 2:** Why does `patch_length` need to divide `context_length` evenly?\n"
   ]
  },
  {
   "cell_type": "code",
   "execution_count": 9,
   "id": "2a2fe2f1",
   "metadata": {
    "colab": {
     "base_uri": "https://localhost:8080/"
    },
    "executionInfo": {
     "elapsed": 7403,
     "status": "ok",
     "timestamp": 1749057652061,
     "user": {
      "displayName": "Sindhu Vasireddy",
      "userId": "12995924272851590760"
     },
     "user_tz": -120
    },
    "id": "2a2fe2f1",
    "outputId": "d18a6967-c988-4c2d-e6a3-96428ce66612"
   },
   "outputs": [
    {
     "name": "stderr",
     "output_type": "stream",
     "text": [
      "Downloading...\n",
      "From: https://drive.google.com/uc?id=1cmTTWY3f18SikgRBcZzhtFswIf7XwPJq\n",
      "To: C:\\Users\\lasse\\Jupyter\\Earth_Science\\Time_series\\data.csv\n",
      "100%|█████████████████████████████████████████████████████████████████████████████| 35.1M/35.1M [00:00<00:00, 60.2MB/s]\n"
     ]
    },
    {
     "name": "stdout",
     "output_type": "stream",
     "text": [
      "   longitude   latitude station_code                  datetime  temp\n",
      "0   7.567796  47.819182      DEBW073 1997-01-01 00:00:00+00:00 -10.0\n",
      "1   7.567796  47.819182      DEBW073 1997-01-01 01:00:00+00:00 -11.0\n",
      "2   7.567796  47.819182      DEBW073 1997-01-01 02:00:00+00:00 -11.0\n",
      "3   7.567796  47.819182      DEBW073 1997-01-01 03:00:00+00:00 -12.0\n",
      "4   7.567796  47.819182      DEBW073 1997-01-01 04:00:00+00:00 -12.0\n"
     ]
    }
   ],
   "source": [
    "import gdown\n",
    "import pandas as pd\n",
    "\n",
    "file_id = \"add file id\"\n",
    "url = f\"add google drive link\"\n",
    "output = \"data.csv\"\n",
    "gdown.download(url, output, quiet=False)\n",
    "\n",
    "# Now read the downloaded file\n",
    "data = pd.read_csv(output, parse_dates=[\"datetime\"])\n",
    "print(data.head())\n",
    "\n",
    "\n",
    "timestamp_column = \"datetime\"\n",
    "id_columns = ['station_code','latitude','longitude']\n",
    "\n",
    "\n",
    "context_length = 336\n",
    "forecast_horizon = 96\n",
    "patch_length = 16\n",
    "num_workers = 16  # Reduce this if you have low number of CPU cores\n",
    "batch_size = 64  # Adjust according to GPU memory"
   ]
  },
  {
   "cell_type": "code",
   "execution_count": 11,
   "id": "RYfspUv4Xka_",
   "metadata": {
    "colab": {
     "base_uri": "https://localhost:8080/"
    },
    "executionInfo": {
     "elapsed": 17,
     "status": "ok",
     "timestamp": 1749057652095,
     "user": {
      "displayName": "Sindhu Vasireddy",
      "userId": "12995924272851590760"
     },
     "user_tz": -120
    },
    "id": "RYfspUv4Xka_",
    "outputId": "a32157d8-61c0-49cf-d6d7-c605cbe979e9"
   },
   "outputs": [
    {
     "data": {
      "text/plain": [
       "array(['DEBW073', 'DEHE020', 'DENW094'], dtype=object)"
      ]
     },
     "execution_count": 11,
     "metadata": {},
     "output_type": "execute_result"
    }
   ],
   "source": [
    "data['station_code'].unique()"
   ]
  },
  {
   "cell_type": "code",
   "execution_count": 14,
   "id": "fc812e8f",
   "metadata": {
    "executionInfo": {
     "elapsed": 262,
     "status": "ok",
     "timestamp": 1749057652404,
     "user": {
      "displayName": "Sindhu Vasireddy",
      "userId": "12995924272851590760"
     },
     "user_tz": -120
    },
    "id": "fc812e8f"
   },
   "outputs": [],
   "source": [
    "data = data[data['station_code'] == \"DENW094\"]\n",
    "observable_columns = [\"temp\"] #[\"no2\", \"temp\", \"o3\", \"no\", \"press\"]\n",
    "target_columns = observable_columns #[\"o3\"]\n",
    "data['latitude'] = data['latitude'].astype(int)\n",
    "data['longitude'] = data['longitude'].astype(int)\n",
    "\n",
    "# get split\n",
    "num_train = int(len(data) * 0.7)\n",
    "num_test = int(len(data) * 0.2)\n",
    "num_valid = len(data) - num_train - num_test\n",
    "border1s = [\n",
    "    0,\n",
    "    num_train - context_length,\n",
    "    len(data) - num_test - context_length,\n",
    "]\n",
    "border2s = [num_train, num_train + num_valid, len(data)]\n",
    "\n",
    "train_start_index = border1s[0]  # None indicates beginning of dataset\n",
    "train_end_index = border2s[0]\n",
    "\n",
    "# we shift the start of the evaluation period back by context length so that\n",
    "# the first evaluation timestamp is immediately following the training data\n",
    "valid_start_index = border1s[1]\n",
    "valid_end_index = border2s[1]\n",
    "\n",
    "test_start_index = border1s[2]\n",
    "test_end_index = border2s[2]\n",
    "\n",
    "train_data = select_by_index(\n",
    "    data,\n",
    "    id_columns=id_columns,\n",
    "    start_index=train_start_index,\n",
    "    end_index=train_end_index,\n",
    ")\n",
    "valid_data = select_by_index(\n",
    "    data,\n",
    "    id_columns=id_columns,\n",
    "    start_index=valid_start_index,\n",
    "    end_index=valid_end_index,\n",
    ")\n",
    "test_data = select_by_index(\n",
    "    data,\n",
    "    id_columns=id_columns,\n",
    "    start_index=test_start_index,\n",
    "    end_index=test_end_index,\n",
    ")\n",
    "\n",
    "time_series_preprocessor = TimeSeriesPreprocessor(\n",
    "    timestamp_column=timestamp_column,\n",
    "    id_columns=id_columns,\n",
    "    input_columns=observable_columns,\n",
    "    output_columns=target_columns,\n",
    "    scaling=True,\n",
    ")\n",
    "time_series_preprocessor = time_series_preprocessor.train(train_data)"
   ]
  },
  {
   "cell_type": "markdown",
   "id": "f19751a9",
   "metadata": {
    "id": "f19751a9"
   },
   "source": [
    "Note: Input and output columns have been renamed target and observable columns in the newer version of tsfm not reflected in huggingface notebook\n",
    "\n",
    "😈 **Task 5:** Update the code to reflect `tsfm`’s new naming and ensure compatibility.\n"
   ]
  },
  {
   "cell_type": "code",
   "execution_count": 16,
   "id": "77bf19ff",
   "metadata": {
    "executionInfo": {
     "elapsed": 1118,
     "status": "ok",
     "timestamp": 1749057653527,
     "user": {
      "displayName": "Sindhu Vasireddy",
      "userId": "12995924272851590760"
     },
     "user_tz": -120
    },
    "id": "77bf19ff"
   },
   "outputs": [],
   "source": [
    "train_dataset = ForecastDFDataset(\n",
    "    time_series_preprocessor.preprocess(train_data),\n",
    "    id_columns=id_columns,\n",
    "    timestamp_column=timestamp_column,\n",
    "    observable_columns=observable_columns,\n",
    "    target_columns=target_columns,\n",
    "    context_length=context_length,\n",
    "    prediction_length=forecast_horizon,\n",
    ")\n",
    "valid_dataset = ForecastDFDataset(\n",
    "    time_series_preprocessor.preprocess(valid_data),\n",
    "    id_columns=id_columns,\n",
    "    timestamp_column=timestamp_column,\n",
    "    observable_columns=observable_columns,\n",
    "    target_columns=target_columns,\n",
    "    context_length=context_length,\n",
    "    prediction_length=forecast_horizon,\n",
    ")\n",
    "test_dataset = ForecastDFDataset(\n",
    "    time_series_preprocessor.preprocess(test_data),\n",
    "    id_columns=id_columns,\n",
    "    timestamp_column=timestamp_column,\n",
    "    observable_columns=observable_columns,\n",
    "    target_columns=target_columns,\n",
    "    context_length=context_length,\n",
    "    prediction_length=forecast_horizon,\n",
    ")"
   ]
  },
  {
   "cell_type": "markdown",
   "id": "2486ca20",
   "metadata": {
    "id": "2486ca20"
   },
   "source": [
    "### Configure the PatchTST model\n",
    "\n",
    "Next, we instantiate a randomly initialized `PatchTST` model with a configuration. The settings below control the different hyperparameters related to the architecture.\n",
    "  - `num_input_channels`: the number of input channels (or dimensions) in the time series data. This is\n",
    "    automatically set to the number for forecast columns.\n",
    "  - `context_length`: As described above, the amount of historical data used as input to the model.\n",
    "  - `patch_length`: The length of the patches extracted from the context window (of length `context_length`).\n",
    "  - `patch_stride`: The stride used when extracting patches from the context window.\n",
    "  - `random_mask_ratio`: The fraction of input patches that are completely masked for pretraining the model.\n",
    "  - `d_model`: Dimension of the transformer layers.\n",
    "  - `num_attention_heads`: The number of attention heads for each attention layer in the Transformer encoder.\n",
    "  - `num_hidden_layers`: The number of encoder layers.\n",
    "  - `ffn_dim`: Dimension of the intermediate (often referred to as feed-forward) layer in the encoder.\n",
    "  - `dropout`: Dropout probability for all fully connected layers in the encoder.\n",
    "  - `head_dropout`: Dropout probability used in the head of the model.\n",
    "  - `pooling_type`: Pooling of the embedding. `\"mean\"`, `\"max\"` and `None` are supported.\n",
    "  - `channel_attention`: Activate the channel attention block in the Transformer to allow channels to attend to each other.\n",
    "  - `scaling`: Whether to scale the input targets via \"mean\" scaler, \"std\" scaler, or no scaler if `None`. If `True`, the\n",
    "    scaler is set to `\"mean\"`.\n",
    "  - `loss`: The loss function for the model corresponding to the `distribution_output` head. For parametric\n",
    "    distributions it is the negative log-likelihood (`\"nll\"`) and for point estimates it is the mean squared\n",
    "    error `\"mse\"`.\n",
    "  - `pre_norm`: Normalization is applied before self-attention if pre_norm is set to `True`. Otherwise, normalization is\n",
    "    applied after residual block.\n",
    "  - `norm_type`: Normalization at each Transformer layer. Can be `\"BatchNorm\"` or `\"LayerNorm\"`.\n",
    "\n",
    "For full details on the parameters, we refer to the [documentation](https://huggingface.co/docs/transformers/main/en/model_doc/patchtst#transformers.PatchTSTConfig).\n",
    "\n",
    "😈 **Task 6:** Test `dropout`, `d_model`, and `num_attention_heads` variations to understand their impact.\n",
    "\n",
    "😈 **Question 3:** What’s the difference between `LayerNorm` and `BatchNorm`, and when might one be preferred over the other?\n",
    "\n"
   ]
  },
  {
   "cell_type": "code",
   "execution_count": 18,
   "id": "1e153ad6",
   "metadata": {
    "executionInfo": {
     "elapsed": 51,
     "status": "ok",
     "timestamp": 1749057671232,
     "user": {
      "displayName": "Sindhu Vasireddy",
      "userId": "12995924272851590760"
     },
     "user_tz": -120
    },
    "id": "1e153ad6"
   },
   "outputs": [],
   "source": [
    "config = PatchTSTConfig(\n",
    "    num_input_channels=len(observable_columns),\n",
    "    context_length=context_length,\n",
    "    patch_length=patch_length,\n",
    "    patch_stride=patch_length,\n",
    "    prediction_length=forecast_horizon,\n",
    "    random_mask_ratio=0.4,\n",
    "    d_model=128,\n",
    "    num_attention_heads=16,\n",
    "    num_hidden_layers=3,\n",
    "    ffn_dim=256,\n",
    "    dropout=0.2,\n",
    "    head_dropout=0.2,\n",
    "    pooling_type=None,\n",
    "    channel_attention=False,\n",
    "    scaling=\"std\",\n",
    "    loss=\"mse\",\n",
    "    pre_norm=True,\n",
    "    norm_type=\"batchnorm\",\n",
    ")\n",
    "model = PatchTSTForPrediction(config)"
   ]
  },
  {
   "cell_type": "markdown",
   "id": "f1330aee",
   "metadata": {
    "id": "f1330aee"
   },
   "source": [
    "### Optional\n",
    " if you would like to use wandb\n",
    "\n",
    "😈 **Task 7:** Log additional metrics like MAE or custom visualizations in wandb.\n"
   ]
  },
  {
   "cell_type": "code",
   "execution_count": 20,
   "id": "6a15e5ab",
   "metadata": {
    "colab": {
     "base_uri": "https://localhost:8080/"
    },
    "id": "6a15e5ab",
    "outputId": "c83c8a2c-8ceb-417c-8d28-3e8aa3d98298"
   },
   "outputs": [],
   "source": [
    "# !export WANDB_API_KEY=<Your-API-Key>\n",
    "# !pip install wandb\n",
    "# !wandb login"
   ]
  },
  {
   "cell_type": "markdown",
   "id": "9aefa459",
   "metadata": {
    "id": "9aefa459"
   },
   "source": [
    "### Train model\n",
    "\n",
    "Next, we can leverage the Hugging Face [Trainer](https://huggingface.co/docs/transformers/main_classes/trainer) class to train the model based on the direct forecasting strategy. We first define the [TrainingArguments](https://huggingface.co/docs/transformers/main_classes/trainer#transformers.TrainingArguments) which lists various hyperparameters for training such as the number of epochs, learning rate and so on.\n",
    "\n",
    "😈 **Task 8:** Implement early stopping. How does it affect training duration and validation loss?\n"
   ]
  },
  {
   "cell_type": "code",
   "execution_count": 22,
   "id": "99c4b1d2",
   "metadata": {
    "executionInfo": {
     "elapsed": 2908,
     "status": "ok",
     "timestamp": 1749057679040,
     "user": {
      "displayName": "Sindhu Vasireddy",
      "userId": "12995924272851590760"
     },
     "user_tz": -120
    },
    "id": "99c4b1d2"
   },
   "outputs": [],
   "source": [
    "training_args = TrainingArguments(\n",
    "    output_dir=\"./checkpoint/patchtst/TOAR/pretrain/output/\",\n",
    "    overwrite_output_dir=True,\n",
    "    # learning_rate=0.001,\n",
    "    num_train_epochs=10,\n",
    "    do_eval=True,\n",
    "    eval_strategy=\"epoch\", # previously evaluation_strategy\n",
    "    per_device_train_batch_size=batch_size,\n",
    "    per_device_eval_batch_size=batch_size,\n",
    "    dataloader_num_workers=num_workers,\n",
    "    save_strategy=\"epoch\",\n",
    "    logging_strategy=\"epoch\",\n",
    "    save_total_limit=3,\n",
    "    logging_dir=\"./checkpoint/patchtst/TOAR/pretrain/logs/\",  # Make sure to specify a logging directory\n",
    "    load_best_model_at_end=True,  # Load the best model when training ends\n",
    "    metric_for_best_model=\"eval_loss\",  # Metric to monitor for early stopping\n",
    "    greater_is_better=False,  # For loss\n",
    "    label_names=[\"future_values\"],\n",
    ")\n",
    "\n",
    "# Create the early stopping callback\n",
    "early_stopping_callback = EarlyStoppingCallback(\n",
    "    early_stopping_patience=3,  # Number of epochs with no improvement after which to stop\n",
    "    early_stopping_threshold=0.0001,  # Minimum improvement required to consider as improvement\n",
    ")\n",
    "\n",
    "# define trainer\n",
    "trainer = Trainer(\n",
    "    model=model,\n",
    "    args=training_args,\n",
    "    train_dataset=train_dataset,\n",
    "    eval_dataset=valid_dataset,\n",
    "    callbacks=[early_stopping_callback],\n",
    "    # compute_metrics=compute_metrics,\n",
    ")"
   ]
  },
  {
   "cell_type": "code",
   "execution_count": 26,
   "id": "20559df9",
   "metadata": {
    "colab": {
     "base_uri": "https://localhost:8080/",
     "height": 578
    },
    "executionInfo": {
     "elapsed": 401636,
     "status": "ok",
     "timestamp": 1749058081080,
     "user": {
      "displayName": "Sindhu Vasireddy",
      "userId": "12995924272851590760"
     },
     "user_tz": -120
    },
    "id": "20559df9",
    "outputId": "eab424fc-b990-4d86-9183-569a778aaf83"
   },
   "outputs": [
    {
     "data": {
      "text/html": [
       "\n",
       "    <div>\n",
       "      \n",
       "      <progress value='16170' max='26950' style='width:300px; height:20px; vertical-align: middle;'></progress>\n",
       "      [16170/26950 27:15 < 18:10, 9.89 it/s, Epoch 6/10]\n",
       "    </div>\n",
       "    <table border=\"1\" class=\"dataframe\">\n",
       "  <thead>\n",
       " <tr style=\"text-align: left;\">\n",
       "      <th>Epoch</th>\n",
       "      <th>Training Loss</th>\n",
       "      <th>Validation Loss</th>\n",
       "    </tr>\n",
       "  </thead>\n",
       "  <tbody>\n",
       "    <tr>\n",
       "      <td>1</td>\n",
       "      <td>0.254400</td>\n",
       "      <td>0.271229</td>\n",
       "    </tr>\n",
       "    <tr>\n",
       "      <td>2</td>\n",
       "      <td>0.240200</td>\n",
       "      <td>0.267296</td>\n",
       "    </tr>\n",
       "    <tr>\n",
       "      <td>3</td>\n",
       "      <td>0.234700</td>\n",
       "      <td>0.262008</td>\n",
       "    </tr>\n",
       "    <tr>\n",
       "      <td>4</td>\n",
       "      <td>0.229700</td>\n",
       "      <td>0.262540</td>\n",
       "    </tr>\n",
       "    <tr>\n",
       "      <td>5</td>\n",
       "      <td>0.224400</td>\n",
       "      <td>0.268343</td>\n",
       "    </tr>\n",
       "    <tr>\n",
       "      <td>6</td>\n",
       "      <td>0.219200</td>\n",
       "      <td>0.272510</td>\n",
       "    </tr>\n",
       "  </tbody>\n",
       "</table><p>"
      ],
      "text/plain": [
       "<IPython.core.display.HTML object>"
      ]
     },
     "metadata": {},
     "output_type": "display_data"
    },
    {
     "data": {
      "text/plain": [
       "TrainOutput(global_step=16170, training_loss=0.23373952475166204, metrics={'train_runtime': 1755.2743, 'train_samples_per_second': 982.382, 'train_steps_per_second': 15.354, 'total_flos': 1377545108244480.0, 'train_loss': 0.23373952475166204, 'epoch': 6.0})"
      ]
     },
     "execution_count": 26,
     "metadata": {},
     "output_type": "execute_result"
    }
   ],
   "source": [
    "# pretrain\n",
    "trainer.train()"
   ]
  },
  {
   "cell_type": "markdown",
   "id": "ae9c96b1",
   "metadata": {
    "id": "ae9c96b1"
   },
   "source": [
    "### Evaluate the model on the test set of the source domain\n",
    "\n",
    "Next, we can leverage `trainer.evaluate()` to calculate test metrics. While this is not the target metric to judge in this task, it provides a reasonable check that the pretrained model has trained properly.\n",
    "Note that the training and evaluation loss for `PatchTST` is the Mean Squared Error (MSE) loss. Hence, we do not separately compute the MSE metric in any of the following evaluation experiments.\n",
    "\n",
    "😈 **Task 9:** Visualize forecast vs. actual values to visually inspect quality.\n",
    "\n",
    "😈 **Question 4:** What are the limitations of using only MSE for evaluation?\n"
   ]
  },
  {
   "cell_type": "code",
   "execution_count": 32,
   "id": "2e41672e",
   "metadata": {
    "colab": {
     "base_uri": "https://localhost:8080/",
     "height": 72
    },
    "executionInfo": {
     "elapsed": 5282,
     "status": "ok",
     "timestamp": 1749058086409,
     "user": {
      "displayName": "Sindhu Vasireddy",
      "userId": "12995924272851590760"
     },
     "user_tz": -120
    },
    "id": "2e41672e",
    "outputId": "fea08c0c-b053-4ed5-9ec5-1d822650e5d3"
   },
   "outputs": [
    {
     "data": {
      "text/html": [
       "\n",
       "    <div>\n",
       "      \n",
       "      <progress value='771' max='771' style='width:300px; height:20px; vertical-align: middle;'></progress>\n",
       "      [771/771 00:07]\n",
       "    </div>\n",
       "    "
      ],
      "text/plain": [
       "<IPython.core.display.HTML object>"
      ]
     },
     "metadata": {},
     "output_type": "display_data"
    },
    {
     "name": "stdout",
     "output_type": "stream",
     "text": [
      "Test result:\n",
      "{'eval_loss': 0.26833537220954895, 'eval_runtime': 114.922, 'eval_samples_per_second': 428.943, 'eval_steps_per_second': 6.709, 'epoch': 6.0}\n"
     ]
    }
   ],
   "source": [
    "results = trainer.evaluate(test_dataset)\n",
    "print(\"Test result:\")\n",
    "print(results)"
   ]
  },
  {
   "cell_type": "markdown",
   "id": "d3ad9921",
   "metadata": {
    "id": "d3ad9921"
   },
   "source": [
    "### Save model\n",
    "\n",
    "😈 **Task 10:** Save multiple checkpoints and compare predictions from different training stages.\n"
   ]
  },
  {
   "cell_type": "code",
   "execution_count": 34,
   "id": "e243b56a",
   "metadata": {
    "executionInfo": {
     "elapsed": 28,
     "status": "ok",
     "timestamp": 1749058086441,
     "user": {
      "displayName": "Sindhu Vasireddy",
      "userId": "12995924272851590760"
     },
     "user_tz": -120
    },
    "id": "e243b56a"
   },
   "outputs": [],
   "source": [
    "save_dir = \"./checkpoint/patchtst/TOAR/model/pretrain/\"\n",
    "os.makedirs(save_dir, exist_ok=True)\n",
    "trainer.save_model(save_dir)"
   ]
  },
  {
   "cell_type": "markdown",
   "id": "ee700d23",
   "metadata": {
    "id": "ee700d23"
   },
   "source": [
    "## Reload Trained Model\n",
    "\n",
    "😈 **Task 11:** Load a saved model and apply it to a completely new station’s dataset.\n"
   ]
  },
  {
   "cell_type": "code",
   "execution_count": 36,
   "id": "ceoa0dew-NsL",
   "metadata": {
    "colab": {
     "base_uri": "https://localhost:8080/"
    },
    "executionInfo": {
     "elapsed": 1025,
     "status": "ok",
     "timestamp": 1749058964804,
     "user": {
      "displayName": "Sindhu Vasireddy",
      "userId": "12995924272851590760"
     },
     "user_tz": -120
    },
    "id": "ceoa0dew-NsL",
    "outputId": "36952e7b-764d-430f-843e-0340d5313ffb"
   },
   "outputs": [
    {
     "name": "stderr",
     "output_type": "stream",
     "text": [
      "A subdirectory or file -p already exists.\n",
      "Error occurred while processing: -p.\n",
      "A subdirectory or file checkpoint already exists.\n",
      "Error occurred while processing: checkpoint.\n",
      "Retrieving folder contents\n",
      "Failed to retrieve folder contents\n"
     ]
    }
   ],
   "source": [
    "!mkdir -p checkpoint\n",
    "\n",
    "!gdown --folder add url again -O checkpoint"
   ]
  },
  {
   "cell_type": "code",
   "execution_count": 37,
   "id": "3a0276c4",
   "metadata": {
    "executionInfo": {
     "elapsed": 37,
     "status": "ok",
     "timestamp": 1749059018822,
     "user": {
      "displayName": "Sindhu Vasireddy",
      "userId": "12995924272851590760"
     },
     "user_tz": -120
    },
    "id": "3a0276c4"
   },
   "outputs": [],
   "source": [
    "## Pre trained checkpoint files can be loaded from below url:\n",
    "# https://drive.google.com/drive/folders/1XKxWaY_Zw0b1skeDlrMeh66aO1UVYPY-?usp=drive_link\n",
    "trained_forecast_model = PatchTSTForPrediction.from_pretrained(\n",
    "    \"./checkpoint/patchtst/TOAR/model/pretrain/\",\n",
    "    num_input_channels=len(observable_columns),\n",
    "    dropout=0.7,\n",
    "    head_dropout=0.7,\n",
    ")\n",
    "## make sure the othervariables are recreated from cells before pretraining\n",
    "re_trainer = Trainer(\n",
    "    model=trained_forecast_model,\n",
    "    args=training_args,\n",
    "    train_dataset=train_dataset,\n",
    "    eval_dataset=valid_dataset,\n",
    "    callbacks=[early_stopping_callback],\n",
    ")"
   ]
  },
  {
   "cell_type": "markdown",
   "id": "60de2b6a",
   "metadata": {
    "id": "60de2b6a"
   },
   "source": [
    "## Predict and Plot\n",
    "\n",
    "😈 **Task 12:** Compare predictions across stations. Which station is easier to forecast and why?\n"
   ]
  },
  {
   "cell_type": "code",
   "execution_count": 39,
   "id": "f99d924f",
   "metadata": {
    "colab": {
     "base_uri": "https://localhost:8080/",
     "height": 34
    },
    "executionInfo": {
     "elapsed": 6131,
     "status": "ok",
     "timestamp": 1749059036512,
     "user": {
      "displayName": "Sindhu Vasireddy",
      "userId": "12995924272851590760"
     },
     "user_tz": -120
    },
    "id": "f99d924f",
    "outputId": "0a4ac874-2f76-4ccf-b5a1-5021f3ddab8e"
   },
   "outputs": [
    {
     "data": {
      "text/html": [],
      "text/plain": [
       "<IPython.core.display.HTML object>"
      ]
     },
     "metadata": {},
     "output_type": "display_data"
    },
    {
     "data": {
      "text/plain": [
       "(49295, 96, 1)"
      ]
     },
     "execution_count": 39,
     "metadata": {},
     "output_type": "execute_result"
    }
   ],
   "source": [
    "raw_predictions = re_trainer.predict(test_dataset)\n",
    "patchtst_predictions = raw_predictions.predictions\n",
    "patchtst_predictions = patchtst_predictions[0]  # Extract the actual predictions array\n",
    "patchtst_predictions.shape"
   ]
  },
  {
   "cell_type": "markdown",
   "id": "08ccbea3",
   "metadata": {
    "id": "08ccbea3"
   },
   "source": [
    "### Comparability\n",
    "\n",
    "\n",
    "> Plotting in line with MLP and LSTM\n",
    "\n",
    "😈 **Question 5:** What benefits do attention-based models offer over recurrent models in forecasting scenarios?\n",
    "\n"
   ]
  },
  {
   "cell_type": "code",
   "execution_count": 41,
   "id": "c6ebfc8c",
   "metadata": {
    "executionInfo": {
     "elapsed": 7,
     "status": "ok",
     "timestamp": 1749059036521,
     "user": {
      "displayName": "Sindhu Vasireddy",
      "userId": "12995924272851590760"
     },
     "user_tz": -120
    },
    "id": "c6ebfc8c"
   },
   "outputs": [],
   "source": [
    "import numpy as np\n",
    "import matplotlib.pyplot as plt\n",
    "from sklearn.metrics import mean_squared_error"
   ]
  },
  {
   "cell_type": "markdown",
   "id": "gUwePOEieKWw",
   "metadata": {
    "id": "gUwePOEieKWw"
   },
   "source": [
    "## Plot\n",
    "\n",
    "😈 **Task 13:** Add confidence intervals or highlight anomalies in the prediction plots.\n"
   ]
  },
  {
   "cell_type": "code",
   "execution_count": 43,
   "id": "400620ce",
   "metadata": {
    "colab": {
     "base_uri": "https://localhost:8080/",
     "height": 942
    },
    "executionInfo": {
     "elapsed": 223,
     "status": "ok",
     "timestamp": 1749059229712,
     "user": {
      "displayName": "Sindhu Vasireddy",
      "userId": "12995924272851590760"
     },
     "user_tz": -120
    },
    "id": "400620ce",
    "outputId": "d288abb0-5fdc-4e08-ff0f-1b0d1dfca226"
   },
   "outputs": [
    {
     "data": {
      "image/png": "[encoded data removed]",
      "text/plain": [
       "<Figure size 1200x1000 with 1 Axes>"
      ]
     },
     "metadata": {},
     "output_type": "display_data"
    }
   ],
   "source": [
    "observable_columnss = [\"temp\"]\n",
    "context_window = 336\n",
    "prediction_horizon = 96\n",
    "\n",
    "plt.figure(figsize=(12, 10))\n",
    "num_variables = len(observable_columnss)\n",
    "scaler_stats = {col: {'mean': data[col].mean(), 'std': data[col].std()} for col in observable_columnss}\n",
    "\n",
    "for variable_idx in range(num_variables):\n",
    "    sample_idx = 0\n",
    "    # X_test_sample = X_test[sample_idx, :, variable_idx]\n",
    "    # y_test_sample = y_test[sample_idx, :, variable_idx]\n",
    "\n",
    "    # Inverse scale\n",
    "    # context = X_test_sample * scaler_stats[observable_columnss[variable_idx]]['std'] + scaler_stats[observable_columnss[variable_idx]]['mean']\n",
    "    # actual_future = y_test_sample * scaler_stats[observable_columnss[variable_idx]]['std'] + scaler_stats[observable_columnss[variable_idx]]['mean']\n",
    "    context = test_dataset[sample_idx]['past_values'] * test_data['temp'].std() + test_data['temp'].mean()\n",
    "    actual_future = test_dataset[sample_idx]['future_values'] * test_data['temp'].std() + test_data['temp'].mean()\n",
    "\n",
    "    predicted_future = patchtst_predictions[sample_idx, :, variable_idx] *test_data['temp'].std() + test_data['temp'].mean()\n",
    "    # print(f\"act: {actual_future} \\n pred {predicted_future}\")\n",
    "    # Plot\n",
    "    plt.subplot(num_variables, 1, variable_idx + 1)\n",
    "\n",
    "    plt.plot(range(context_window), context, label=\"Ground Truth Context\", color=\"blue\", marker=\"o\")\n",
    "    plt.plot(range(context_window, context_window + prediction_horizon), actual_future, label=\"Ground Truth Future\", color=\"green\", marker=\"o\")\n",
    "    plt.plot(range(context_window, context_window + prediction_horizon), predicted_future, label=\"PatchTST Prediction\", linestyle=\"--\", color=\"orange\", marker=\"x\")\n",
    "\n",
    "    plt.title(f\"PatchTST Forecast for {observable_columnss[variable_idx]}\")\n",
    "    plt.xlabel(\"Time Step\")\n",
    "    plt.ylabel(observable_columnss[variable_idx])\n",
    "    plt.legend()\n",
    "\n",
    "plt.tight_layout()\n",
    "plt.show()\n",
    "\n",
    "# Save context, actual, and predicted for each variable into a named file\n",
    "np.savez(\n",
    "    \"PTST_results.npz\",\n",
    "    context=context,\n",
    "    actual_future=actual_future,\n",
    "    predicted_future=predicted_future,\n",
    "    variable_column=observable_columnss\n",
    ")\n"
   ]
  },
  {
   "cell_type": "code",
   "execution_count": null,
   "id": "49353ef3",
   "metadata": {
    "id": "49353ef3"
   },
   "outputs": [],
   "source": []
  },
  {
   "cell_type": "markdown",
   "id": "8oLNbDa4gLCa",
   "metadata": {
    "id": "8oLNbDa4gLCa"
   },
   "source": [
    "# Extra\n",
    "If you want to load the custom sampled data from drive for plots comparability."
   ]
  },
  {
   "cell_type": "code",
   "execution_count": 46,
   "id": "xJacMjHGg7M2",
   "metadata": {
    "colab": {
     "base_uri": "https://localhost:8080/"
    },
    "executionInfo": {
     "elapsed": 81239,
     "status": "ok",
     "timestamp": 1748983169959,
     "user": {
      "displayName": "Sindhu Vasireddy",
      "userId": "14937452893279665394"
     },
     "user_tz": -120
    },
    "id": "xJacMjHGg7M2",
    "outputId": "274bbc3c-f1c7-4ff5-f05b-8a5c1e8fd95e"
   },
   "outputs": [
    {
     "ename": "ModuleNotFoundError",
     "evalue": "No module named 'google.colab'",
     "output_type": "error",
     "traceback": [
      "\u001b[1;31m---------------------------------------------------------------------------\u001b[0m",
      "\u001b[1;31mModuleNotFoundError\u001b[0m                       Traceback (most recent call last)",
      "Cell \u001b[1;32mIn[46], line 1\u001b[0m\n\u001b[1;32m----> 1\u001b[0m \u001b[38;5;28;01mfrom\u001b[39;00m\u001b[38;5;250m \u001b[39m\u001b[38;5;21;01mgoogle\u001b[39;00m\u001b[38;5;21;01m.\u001b[39;00m\u001b[38;5;21;01mcolab\u001b[39;00m\u001b[38;5;250m \u001b[39m\u001b[38;5;28;01mimport\u001b[39;00m drive\n\u001b[0;32m      2\u001b[0m drive\u001b[38;5;241m.\u001b[39mmount(\u001b[38;5;124m'\u001b[39m\u001b[38;5;124m/content/drive\u001b[39m\u001b[38;5;124m'\u001b[39m)\n",
      "\u001b[1;31mModuleNotFoundError\u001b[0m: No module named 'google.colab'"
     ]
    }
   ],
   "source": [
    "from google.colab import drive\n",
    "drive.mount('/content/drive')"
   ]
  },
  {
   "cell_type": "code",
   "execution_count": null,
   "id": "6721b59e",
   "metadata": {
    "colab": {
     "base_uri": "https://localhost:8080/"
    },
    "executionInfo": {
     "elapsed": 5895,
     "status": "ok",
     "timestamp": 1748985774727,
     "user": {
      "displayName": "Sindhu Vasireddy",
      "userId": "14937452893279665394"
     },
     "user_tz": -120
    },
    "id": "6721b59e",
    "outputId": "a0ffff9e-84b4-49c8-c382-6aa0f1d61449"
   },
   "outputs": [],
   "source": [
    "observable_columnss = [\"temp\"]#[\"no2\", \"temp\", \"o3\", \"no\", \"press\"]\n",
    "context_window = 336\n",
    "prediction_horizon = 96\n",
    "import pickle\n",
    "## Processed data .pkl files are also made available for the select stations in URL:\n",
    "# Please download the files and place them in content subfolder\n",
    "# else modify below path according to your chosen local download path:\n",
    "# only temp : https://drive.google.com/drive/folders/197WGFswCLYinkx-48XBMQKILwJQMokd0?usp=sharing\n",
    "\n",
    "with open(\"X_test.pkl\", \"rb\") as f:\n",
    "    X_test = pickle.load(f)\n",
    "\n",
    "with open(\"y_train.pkl\", \"rb\") as f:\n",
    "    y_train = pickle.load(f)\n",
    "\n",
    "with open(\"y_test.pkl\", \"rb\") as f:\n",
    "    y_test = pickle.load(f)\n",
    "\n",
    "with open(\"X_train.pkl\", \"rb\") as f:\n",
    "    X_train = pickle.load(f)\n",
    "\n",
    "# Flatten input features\n",
    "X_train = X_train.reshape(X_train.shape[0], X_train.shape[1], len(observable_columns))  # (samples, 24*5)\n",
    "y_train = y_train.reshape(y_train.shape[0], y_train.shape[1], len(observable_columns))\n",
    "X_test = X_test.reshape(X_test.shape[0], X_train.shape[1],  len(observable_columns))\n",
    "y_test = y_test.reshape(y_test.shape[0], y_test.shape[1],  len(observable_columns))\n",
    "\n",
    "scaler_stats = {col: {'mean': data[col].mean(), 'std': data[col].std()} for col in observable_columnss}\n",
    "\n",
    "# Flatten input features\n",
    "X_train = X_train.reshape(X_train.shape[0], X_train.shape[1], len(observable_columns))  # (samples, 24*5)\n",
    "y_train = y_train.reshape(y_train.shape[0], y_train.shape[1], len(observable_columns))\n",
    "X_test = X_test.reshape(X_test.shape[0], X_train.shape[1],  len(observable_columns))\n",
    "y_test = y_test.reshape(y_test.shape[0], y_test.shape[1],  len(observable_columns))\n",
    "\n",
    "print(f\"X_train shape: {X_train.shape}, y_train shape: {y_train.shape}\")\n",
    "print(f\"X_test shape: {X_test.shape}, y_test shape: {y_test.shape}\")"
   ]
  },
  {
   "cell_type": "code",
   "execution_count": null,
   "id": "SKiV3laIuifb",
   "metadata": {
    "id": "SKiV3laIuifb"
   },
   "outputs": [],
   "source": [
    "raw_predictions = re_trainer.predict(X_test)\n",
    "patchtst_predictions = raw_predictions.predictions\n",
    "patchtst_predictions = patchtst_predictions[0]  # Extract the actual predictions array\n",
    "patchtst_predictions.shape"
   ]
  },
  {
   "cell_type": "code",
   "execution_count": null,
   "id": "c5a789b7-8934-4cdc-91f9-883684591d94",
   "metadata": {},
   "outputs": [],
   "source": []
  },
  {
   "cell_type": "code",
   "execution_count": null,
   "id": "aaa6704f-bfb4-4cb6-a894-cc9e6788dfd7",
   "metadata": {},
   "outputs": [],
   "source": []
  },
  {
   "cell_type": "code",
   "execution_count": null,
   "id": "442264bc-cd15-494d-bea1-e675a97d8c7d",
   "metadata": {},
   "outputs": [],
   "source": []
  },
  {
   "cell_type": "code",
   "execution_count": null,
   "id": "346592f8-b2af-4cca-b89a-6de7191dafd9",
   "metadata": {},
   "outputs": [],
   "source": []
  },
  {
   "cell_type": "code",
   "execution_count": null,
   "id": "13bb56b0-0528-4a0a-b9d9-c1534061257a",
   "metadata": {},
   "outputs": [],
   "source": []
  }
 ],
 "metadata": {
  "accelerator": "GPU",
  "colab": {
   "collapsed_sections": [
    "8oLNbDa4gLCa"
   ],
   "gpuType": "A100",
   "machine_shape": "hm",
   "provenance": []
  },
  "kernelspec": {
   "display_name": "Python [conda env:es]",
   "language": "python",
   "name": "conda-env-es-py"
  },
  "language_info": {
   "codemirror_mode": {
    "name": "ipython",
    "version": 3
   },
   "file_extension": ".py",
   "mimetype": "text/x-python",
   "name": "python",
   "nbconvert_exporter": "python",
   "pygments_lexer": "ipython3",
   "version": "3.10.18"
  }
 },
 "nbformat": 4,
 "nbformat_minor": 5
}
